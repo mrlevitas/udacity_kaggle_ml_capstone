{
 "cells": [
  {
   "cell_type": "code",
   "execution_count": 1,
   "metadata": {
    "collapsed": false
   },
   "outputs": [],
   "source": [
    "import numpy as np # linear algebra\n",
    "import pandas as pd # data processing, CSV file I/O\n",
    "# from sklearn.feature_extraction.text import CountVectorizer\n",
    "from bs4 import BeautifulSoup\n",
    "import re\n",
    "from nltk.stem import WordNetLemmatizer\n"
   ]
  },
  {
   "cell_type": "code",
   "execution_count": 2,
   "metadata": {
    "collapsed": false
   },
   "outputs": [
    {
     "name": "stdout",
     "output_type": "stream",
     "text": [
      "id                                                         2\n",
      "title      How can I modify a low cost hobby servo to run...\n",
      "content    <p>I've got some hobby servos (<a href=\"http:/...\n",
      "tags                                         control rcservo\n",
      "Name: 1, dtype: object\n"
     ]
    }
   ],
   "source": [
    "df_hash = {\n",
    "#     \"cooking\": pd.read_csv(\"cooking.csv\"),\n",
    "#     \"crypto\": pd.read_csv(\"crypto.csv\"),\n",
    "    \"robotics\": pd.read_csv(\"data/robotics.csv\"),\n",
    "#     \"biology\": pd.read_csv(\"biology.csv\"),\n",
    "#     \"travel\": pd.read_csv(\"travel.csv\"),\n",
    "#     \"diy\": pd.read_csv(\"diy.csv\"),\n",
    "}\n",
    "\n",
    "print(df_hash[\"robotics\"].iloc[1])"
   ]
  },
  {
   "cell_type": "code",
   "execution_count": 3,
   "metadata": {
    "collapsed": false
   },
   "outputs": [
    {
     "data": {
      "text/plain": [
       "array(['id', 'title', 'content', 'tags'], dtype=object)"
      ]
     },
     "execution_count": 3,
     "metadata": {},
     "output_type": "execute_result"
    }
   ],
   "source": [
    "df_hash['robotics'].columns.values"
   ]
  },
  {
   "cell_type": "code",
   "execution_count": 4,
   "metadata": {
    "collapsed": false
   },
   "outputs": [
    {
     "name": "stdout",
     "output_type": "stream",
     "text": [
      "(2771, 4)\n",
      "0                          soccer control\n",
      "1                         control rcservo\n",
      "2                               gait walk\n",
      "3    microcontroller arduino raspberry-pi\n",
      "4                     motion-planning rrt\n",
      "Name: tags, dtype: object\n"
     ]
    }
   ],
   "source": [
    "# biologyTable.shape\n",
    "print(df_hash[\"robotics\"].shape)\n",
    "print df_hash[\"robotics\"].tags.head(5)"
   ]
  },
  {
   "cell_type": "code",
   "execution_count": 5,
   "metadata": {
    "collapsed": false
   },
   "outputs": [],
   "source": [
    "import nltk\n",
    "# nltk.download()\n",
    "from nltk.corpus import stopwords\n",
    "# In Python, searching a set is much faster than searching a list, so convert the stop words to a set\n",
    "stops = set(stopwords.words(\"english\"))  "
   ]
  },
  {
   "cell_type": "markdown",
   "metadata": {},
   "source": [
    "https://www.kaggle.com/c/word2vec-nlp-tutorial#part-1-for-beginners-bag-of-words"
   ]
  },
  {
   "cell_type": "code",
   "execution_count": 6,
   "metadata": {
    "collapsed": false
   },
   "outputs": [],
   "source": [
    "def separate_tags(tags):\n",
    "#     print tags\n",
    "    letters_only = re.sub(\"[^a-zA-Z]\", \" \", tags) \n",
    "#     return map( lambda x: [x], letters_only.lower().split() )\n",
    "    return letters_only.lower().split()\n",
    "\n",
    "# print separate_tags(\"hello googbye13 42 HI\")"
   ]
  },
  {
   "cell_type": "code",
   "execution_count": 7,
   "metadata": {
    "collapsed": false
   },
   "outputs": [],
   "source": [
    "def strip_html(raw_html):\n",
    "    if raw_html:\n",
    "        # remove html tags\n",
    "        soup = BeautifulSoup(raw_html, \"html.parser\")\n",
    "\n",
    "        [s.extract() for s in soup(['pre', 'code'])]\n",
    "            \n",
    "        question_text = soup.get_text()\n",
    "        \n",
    "        # remove everything but letters\n",
    "        letters_only = re.sub(\"[^a-zA-Z]\", \" \", question_text) \n",
    "        \n",
    "            \n",
    "        # normalize case\n",
    "        words = letters_only.lower().split()   \n",
    "\n",
    "        # remove stopwords         \n",
    "        meaningful_words = [w for w in words if not w in stops] \n",
    "        \n",
    "        wordnet_lemmatizer = WordNetLemmatizer()\n",
    "        meaningful_word_stems = map(lambda x: wordnet_lemmatizer.lemmatize(x) , meaningful_words)\n",
    "        return( \" \".join( meaningful_word_stems )) \n",
    "    else:\n",
    "        return \"\"\n",
    "    \n",
    "# strip_html(df_hash['robotics'].content[0])"
   ]
  },
  {
   "cell_type": "code",
   "execution_count": 8,
   "metadata": {
    "collapsed": false
   },
   "outputs": [
    {
     "name": "stdout",
     "output_type": "stream",
     "text": [
      "Cleaning and parsing the training set of tags for each topic...\n",
      "\n",
      "robotics\n",
      "'s size is \n",
      "0                                       [soccer, control]\n",
      "1                                      [control, rcservo]\n",
      "2                                            [gait, walk]\n",
      "3               [microcontroller, arduino, raspberry, pi]\n",
      "4                                 [motion, planning, rrt]\n",
      "5                                    [software, platform]\n",
      "6                                     [software, circuit]\n",
      "7                [odometry, localization, kalman, filter]\n",
      "8                                              [untagged]\n",
      "9                                     [soccer, mechanism]\n",
      "10                     [computer, vision, wheeled, robot]\n",
      "11                                           [quadcopter]\n",
      "12                                               [servos]\n",
      "13                          [localization, mobile, robot]\n",
      "14                                        [kinect, input]\n",
      "15                                                [wheel]\n",
      "16            [control, gyroscope, balance, two, wheeled]\n",
      "17                              [design, underwater, auv]\n",
      "18                             [underwater, battery, auv]\n",
      "19                              [electronics, protection]\n",
      "20                                    [localization, gps]\n",
      "21      [slam, localization, gps, mapping, acoustic, r...\n",
      "22                    [servos, heat, management, cooling]\n",
      "23                              [sensors, failure, motor]\n",
      "24                              [two, wheeled, stability]\n",
      "25      [mobile, robot, design, movement, wheel, first...\n",
      "26      [arduino, logic, control, stepper, motor, step...\n",
      "27                                        [mobile, robot]\n",
      "28                [servos, mobile, robot, stepper, motor]\n",
      "29                               [motor, actuator, noise]\n",
      "                              ...                        \n",
      "2741                                             [servos]\n",
      "2742    [control, kalman, filter, imu, calibration, pr...\n",
      "2743                                           [d, model]\n",
      "2744                                       [localization]\n",
      "2745                                                [ros]\n",
      "2746    [motor, robotic, arm, stepper, motor, servos, ...\n",
      "2747                                     [walking, robot]\n",
      "2748             [slam, computer, vision, stereo, vision]\n",
      "2749                              [mobile, robot, tracks]\n",
      "2750          [localization, lidar, precise, positioning]\n",
      "2751                             [sensors, imu, rotation]\n",
      "2752                       [computer, vision, automation]\n",
      "2753                                            [arduino]\n",
      "2754                        [quadcopter, microcontroller]\n",
      "2755                          [localization, slam, lidar]\n",
      "2756                                      [mobile, robot]\n",
      "2757                                     [wheeled, robot]\n",
      "2758                         [real, time, digital, audio]\n",
      "2759                        [motor, raspberry, pi, power]\n",
      "2760                                              [motor]\n",
      "2761                 [quadcopter, sensors, accelerometer]\n",
      "2762                         [motor, quadrature, encoder]\n",
      "2763               [quadcopter, accelerometer, gyroscope]\n",
      "2764                     [mobile, robot, torque, gearing]\n",
      "2765        [inverse, kinematics, c, forward, kinematics]\n",
      "2766              [motor, robotic, arm, actuator, torque]\n",
      "2767                       [microcontroller, electronics]\n",
      "2768    [arduino, raspberry, pi, embedded, systems, fi...\n",
      "2769                         [slam, ekf, first, robotics]\n",
      "2770                                           [wireless]\n",
      "Name: tags, dtype: object\n",
      "0    imagine programming wheel soccer robot type co...\n",
      "1    got hobby servo power hd mg like able control ...\n",
      "2    http www oricomtech com project leg time htm l...\n",
      "3    looking starting point project preferably usin...\n",
      "Name: content, dtype: object\n"
     ]
    }
   ],
   "source": [
    "print \"Cleaning and parsing the training set of tags for each topic...\\n\"\n",
    "\n",
    "for topic, df in df_hash.iteritems():\n",
    "    print topic\n",
    "    print \"'s size is \"\n",
    "    \n",
    "    df.content = df.content.apply(lambda x: strip_html(x) )\n",
    "    df.tags = df.tags.apply(lambda y: separate_tags(y) )\n",
    "    df.tags.replace(['', ' ', 'untagged'], np.nan, inplace=True)\n",
    "    df.dropna(subset=['tags'], inplace=True)\n",
    "    print df.tags\n",
    "    print df.content.head(4)"
   ]
  },
  {
   "cell_type": "code",
   "execution_count": 9,
   "metadata": {
    "collapsed": false
   },
   "outputs": [
    {
     "name": "stdout",
     "output_type": "stream",
     "text": [
      "(2771, 4)\n"
     ]
    }
   ],
   "source": [
    "print df_hash[\"robotics\"].shape\n"
   ]
  },
  {
   "cell_type": "code",
   "execution_count": 10,
   "metadata": {
    "collapsed": false
   },
   "outputs": [],
   "source": [
    "# from sklearn.base import BaseEstimator, TransformerMixin\n",
    "\n",
    "# class QuestionStripper(BaseEstimator, TransformerMixin):\n",
    "\n",
    "#     def __init__(self):\n",
    "#         self = self\n",
    "#         self.df = df  # e.g. pass in a column name to extract\n",
    "#         self.topic_size = df.size\n",
    "        \n",
    "#     def transform(self, X, y=None):\n",
    "#         return do_something_to(X, self.vars)  # where the actual feature extraction happens\n",
    "#         print \"'s size is \"\n",
    "#         print self.topic_size\n",
    "#         return X.apply(lambda x: strip_html(x) )\n",
    "        \n",
    "    \n",
    "#     def fit(self, X, y=None):\n",
    "#         return self  # generally does nothing"
   ]
  },
  {
   "cell_type": "code",
   "execution_count": 11,
   "metadata": {
    "collapsed": false
   },
   "outputs": [
    {
     "name": "stdout",
     "output_type": "stream",
     "text": [
      "0                            [soccer, control]\n",
      "1                           [control, rcservo]\n",
      "2                                 [gait, walk]\n",
      "3    [microcontroller, arduino, raspberry, pi]\n",
      "4                      [motion, planning, rrt]\n",
      "Name: tags, dtype: object\n",
      "(2771, 4)\n",
      "0    imagine programming wheel soccer robot type co...\n",
      "1    got hobby servo power hd mg like able control ...\n",
      "2    http www oricomtech com project leg time htm l...\n",
      "3    looking starting point project preferably usin...\n",
      "Name: content, dtype: object\n"
     ]
    }
   ],
   "source": [
    "print df_hash[\"robotics\"].tags.head(5)\n",
    "print df_hash[\"robotics\"].shape\n",
    "print df.content.head(4)"
   ]
  },
  {
   "cell_type": "code",
   "execution_count": 12,
   "metadata": {
    "collapsed": false,
    "scrolled": false
   },
   "outputs": [
    {
     "name": "stdout",
     "output_type": "stream",
     "text": [
      "splitting\n",
      "len df.tags\n",
      "2771\n",
      "(2771,)\n",
      "0                            [soccer, control]\n",
      "1                           [control, rcservo]\n",
      "2                                 [gait, walk]\n",
      "3    [microcontroller, arduino, raspberry, pi]\n",
      "4                      [motion, planning, rrt]\n",
      "Name: tags, dtype: object\n",
      "y shape\n",
      "(2771, 266)\n",
      "y\n",
      "   0    1    2    3    4    5    6    7    8    9   ...   256  257  258  259  \\\n",
      "0    0    0    0    0    0    0    0    0    0    0 ...     0    0    0    0   \n",
      "1    0    0    0    0    0    0    0    0    0    0 ...     0    0    0    0   \n",
      "2    0    0    0    0    0    0    0    0    0    0 ...     0    0    0    1   \n",
      "3    0    0    0    0    0    0    0    0    1    0 ...     0    0    0    0   \n",
      "4    0    0    0    0    0    0    0    0    0    0 ...     0    0    0    0   \n",
      "\n",
      "   260  261  262  263  264  265  \n",
      "0    0    0    0    0    0    0  \n",
      "1    0    0    0    0    0    0  \n",
      "2    0    0    0    0    0    0  \n",
      "3    0    0    0    0    0    0  \n",
      "4    0    0    0    0    0    0  \n",
      "\n",
      "[5 rows x 266 columns]\n",
      "<class 'pandas.core.frame.DataFrame'>\n",
      "true K: \n",
      "\n",
      "52\n",
      "27\n",
      "done in 0.000s\n"
     ]
    }
   ],
   "source": [
    "from sklearn.feature_extraction.text import TfidfVectorizer, CountVectorizer, TfidfTransformer\n",
    "from sklearn.pipeline import Pipeline\n",
    "from sklearn.svm import SVC, LinearSVC\n",
    "from sklearn.model_selection import train_test_split, GridSearchCV, StratifiedKFold, KFold, cross_val_score, cross_val_predict\n",
    "from sklearn.metrics import classification_report, f1_score, make_scorer, accuracy_score, confusion_matrix\n",
    "from sklearn.multioutput import MultiOutputClassifier\n",
    "from sklearn.multiclass import OutputCodeClassifier, OneVsRestClassifier, OneVsOneClassifier\n",
    "from sklearn.preprocessing import MultiLabelBinarizer, LabelEncoder\n",
    "from math import sqrt\n",
    "from skmultilearn.ensemble import RakelD, RakelO\n",
    "from skmultilearn.problem_transform import BinaryRelevance, LabelPowerset\n",
    "from sklearn.naive_bayes import MultinomialNB\n",
    "\n",
    "from sklearn.tree import DecisionTreeClassifier\n",
    "from sklearn.ensemble import RandomForestClassifier\n",
    "# from sklearn.feature_selection import SelectFromModel\n",
    "from time import time\n",
    "from skmultilearn.problem_transform import BinaryRelevance  \n",
    "# from nltk.classify.scikitlearn import SklearnClassifier\n",
    "# from collections import defaultdict\n",
    "# from sklearn.linear_model import LogisticRegressionCV\n",
    "\n",
    "from sklearn.cluster import MiniBatchKMeans\n",
    "# parameters = {\n",
    "#     'rakel__labelset_size': range(1, 3),\n",
    "#     'classifier': [LabelPowerset(), SVC()],\n",
    "#     'rakel__classifier': \"classifier\"\n",
    "#     }\n",
    "\n",
    "# parameters = {'tree__max_depth': range(7, 20),\n",
    "#               \"tree__n_estimators\": [10, 50, 100],\n",
    "#               \"tree__bootstrap\": [ False],\n",
    "#               \"tree__criterion\": [\"gini\", \"entropy\"]}\n",
    "# parameters = {\n",
    "#     'rakel__labelset_size': range(1, 3),\n",
    "#     'vectorizer__ngram_range': range(1,2),\n",
    "#     'rakel__classifier': [LabelPowerset(), BinaryRelevance()],\n",
    "#     'rakel__classifier__classifier': [MultinomialNB()],\n",
    "#     'rakel__classifier__classifier__alpha': [0.7, 1.0],\n",
    "# }\n",
    "\n",
    "# TfidfTransformer = TfidfVectorizer(analyzer = \"word\",   \\\n",
    "\n",
    "        \n",
    "\n",
    "# use a full grid over all parameters\n",
    "# param_grid = {\"max_depth\": [3, None],\n",
    "#               \"max_features\": [1, 3, 10],\n",
    "\n",
    "\n",
    "\n",
    "\n",
    "\n",
    "# Set the parameters by cross-validation\n",
    "# parameters = {'svc__estimator__kernel': ['rbf', 'poly']}\n",
    "#               'svc__estimator__degree':[1, 2, 3] }\n",
    "\n",
    "# parameters = dict(svc__estimator__C=np.logspace(-5,0,5), svc__estimator__gamma=np.logspace(-2, 2, 10))\n",
    "\n",
    "#     print(\"Best parameters set found on development set:\")\n",
    "#     print()\n",
    "#     print(clf.best_params_)\n",
    "#     print()\n",
    "#     print(\"Grid scores on development set:\")\n",
    "\n",
    "        \n",
    "df = df_hash[\"robotics\"]\n",
    "# for topic, df in df_hash.iteritems():\n",
    "print \"splitting\"\n",
    "\n",
    "\n",
    "#     tf = TfidfVectorizer()\n",
    "#     X = tf.fit_transform(df.content.values)\n",
    "#     Y = df.tags.values\n",
    "print \"len df.tags\"\n",
    "print len(df.tags)\n",
    "print df.tags.shape\n",
    "print df.tags.head(5)\n",
    "mlb = MultiLabelBinarizer()\n",
    "Y = pd.DataFrame( mlb.fit_transform(df.tags) )\n",
    "\n",
    "print \"y shape\"\n",
    "print Y.shape\n",
    "print \"y\"\n",
    "print Y.head(5)\n",
    "print type(Y)\n",
    "true_k = len(Y)\n",
    "print \"true K: \\n\"\n",
    "print int(sqrt(true_k))\n",
    "print int(true_k/100)\n",
    "# parameters = {\n",
    "#         \"rf_classifier__n_estimators\" : [ 5 , 10],\n",
    "#     \"dt_class__max_depth\" : [20,50, 100, 500 ],\n",
    "#     \"dt_class__criterion\" : [\"gini\", \"entropy\"]\n",
    "# } \n",
    "\n",
    "#     steps = [   ('vectorizer', CountVectorizer(stop_words=\"english\", strip_accents='unicode')),\n",
    "steps = [('tfidf', TfidfVectorizer(tokenizer=lambda doc: doc, lowercase=False , analyzer = \"word\",\n",
    "                                   stop_words=\"english\",max_features = 5000 ) ),\n",
    "#         ('rakel', RakelD(MultinomialNB(alpha=0.7), labelset_size=true_k))]\n",
    "#             ('rf_classifier', RandomForestClassifier(n_estimators= 7, max_depth=20, random_state=42 ))]\n",
    "            (\"dt_class\", OneVsRestClassifier(DecisionTreeClassifier( random_state = 42)))]\n",
    "#             ( 'kmeans_cluster', MiniBatchKMeans(n_clusters=int(sqrt(true_k)), init='k-means++', n_init=1,\n",
    "#                              init_size=1000, batch_size=1000) ) ]\n",
    "#             ('svc', OneVsRestClassifier())]\n",
    "\n",
    "pipeline = Pipeline(steps)\n",
    "#     Y = mlb.fit_transform(df.tags)z\n",
    "#     print Y.shape\n",
    "#     print Y\n",
    "#     print df.tags.head(5)\n",
    "#     X_train, X_test, y_train, y_test_vect = train_test_split(df.content,\\\n",
    "#                                                         Y, \\\n",
    "#                                                         test_size=0.33,\\\n",
    "#                                                         random_state=42)\n",
    "\n",
    "\n",
    "\n",
    "#     scorer = make_scorer(f1_score, average=\"weighted\")\n",
    "#     Y_test = mlb.fit_transform(y_test)\n",
    "#     scores = ['precision', 'recall']\n",
    "\n",
    "#     for score in scores:\n",
    "#     print(\"# Tuning hyper-parameters for %s\" % score)\n",
    "#     cv = GridSearchCV( pipeline, scoring='f1')\n",
    "#     cv = GridSearchCV( pipeline, param_grid = parameters, scoring='f1')\n",
    "#                            scoring='%s_macro' % score)\n",
    "\n",
    "\n",
    "\n",
    "t0 = time()\n",
    "# clf = GridSearchCV(pipeline, parameters, cv=10)\n",
    "# clf.fit( df.content, Y )\n",
    "#     pipeline.fit(X_train, y_train)\n",
    "#     y_predicted_vect = pipeline.predict(X_test)\n",
    "print(\"done in %0.3fs\" % (time() - t0))\n"
   ]
  },
  {
   "cell_type": "code",
   "execution_count": null,
   "metadata": {
    "collapsed": false
   },
   "outputs": [],
   "source": [
    "\n",
    "# print clf.best_estimator_\n",
    "# print(\"Best score: %0.3f\" % clf.best_score_)\n",
    "# print(\"Best parameters set:\")\n",
    "# best_parameters = clf.best_estimator_.get_params()\n",
    "# print best_parameters\n",
    "# for param_name in sorted(parameters.keys()):\n",
    "#     print(\"\\t%s: %r\" % (param_name, best_parameters[param_name]))\n",
    "\n",
    "# print clf.cv_results_.keys()\n",
    "# print(\"Best score: %0.3f\" % clf.best_score_)\n",
    "#     results = cross_val_score(clf, X, Y)\n",
    "#     print results\n",
    "#     y_prediction = clf.predict( X_test )\n"
   ]
  },
  {
   "cell_type": "code",
   "execution_count": null,
   "metadata": {
    "collapsed": false
   },
   "outputs": [
    {
     "name": "stdout",
     "output_type": "stream",
     "text": [
      "evaluating\n"
     ]
    },
    {
     "name": "stderr",
     "output_type": "stream",
     "text": [
      "/Users/vlevitas-local/anaconda2/lib/python2.7/site-packages/sklearn/multiclass.py:76: UserWarning: Label not 5 is present in all training examples.\n",
      "  str(classes[c]))\n",
      "/Users/vlevitas-local/anaconda2/lib/python2.7/site-packages/sklearn/multiclass.py:76: UserWarning: Label not 45 is present in all training examples.\n",
      "  str(classes[c]))\n",
      "/Users/vlevitas-local/anaconda2/lib/python2.7/site-packages/sklearn/multiclass.py:76: UserWarning: Label not 76 is present in all training examples.\n",
      "  str(classes[c]))\n",
      "/Users/vlevitas-local/anaconda2/lib/python2.7/site-packages/sklearn/multiclass.py:76: UserWarning: Label not 97 is present in all training examples.\n",
      "  str(classes[c]))\n",
      "/Users/vlevitas-local/anaconda2/lib/python2.7/site-packages/sklearn/multiclass.py:76: UserWarning: Label not 100 is present in all training examples.\n",
      "  str(classes[c]))\n",
      "/Users/vlevitas-local/anaconda2/lib/python2.7/site-packages/sklearn/multiclass.py:76: UserWarning: Label not 136 is present in all training examples.\n",
      "  str(classes[c]))\n",
      "/Users/vlevitas-local/anaconda2/lib/python2.7/site-packages/sklearn/multiclass.py:76: UserWarning: Label not 153 is present in all training examples.\n",
      "  str(classes[c]))\n",
      "/Users/vlevitas-local/anaconda2/lib/python2.7/site-packages/sklearn/multiclass.py:76: UserWarning: Label not 247 is present in all training examples.\n",
      "  str(classes[c]))\n",
      "/Users/vlevitas-local/anaconda2/lib/python2.7/site-packages/sklearn/multiclass.py:76: UserWarning: Label not 251 is present in all training examples.\n",
      "  str(classes[c]))\n",
      "/Users/vlevitas-local/anaconda2/lib/python2.7/site-packages/sklearn/multiclass.py:76: UserWarning: Label not 34 is present in all training examples.\n",
      "  str(classes[c]))\n",
      "/Users/vlevitas-local/anaconda2/lib/python2.7/site-packages/sklearn/multiclass.py:76: UserWarning: Label not 207 is present in all training examples.\n",
      "  str(classes[c]))\n",
      "/Users/vlevitas-local/anaconda2/lib/python2.7/site-packages/sklearn/multiclass.py:76: UserWarning: Label not 235 is present in all training examples.\n",
      "  str(classes[c]))\n",
      "/Users/vlevitas-local/anaconda2/lib/python2.7/site-packages/sklearn/multiclass.py:76: UserWarning: Label not 20 is present in all training examples.\n",
      "  str(classes[c]))\n",
      "/Users/vlevitas-local/anaconda2/lib/python2.7/site-packages/sklearn/multiclass.py:76: UserWarning: Label not 27 is present in all training examples.\n",
      "  str(classes[c]))\n",
      "/Users/vlevitas-local/anaconda2/lib/python2.7/site-packages/sklearn/multiclass.py:76: UserWarning: Label not 230 is present in all training examples.\n",
      "  str(classes[c]))\n",
      "/Users/vlevitas-local/anaconda2/lib/python2.7/site-packages/sklearn/multiclass.py:76: UserWarning: Label not 7 is present in all training examples.\n",
      "  str(classes[c]))\n",
      "/Users/vlevitas-local/anaconda2/lib/python2.7/site-packages/sklearn/multiclass.py:76: UserWarning: Label not 28 is present in all training examples.\n",
      "  str(classes[c]))\n",
      "/Users/vlevitas-local/anaconda2/lib/python2.7/site-packages/sklearn/multiclass.py:76: UserWarning: Label not 74 is present in all training examples.\n",
      "  str(classes[c]))\n",
      "/Users/vlevitas-local/anaconda2/lib/python2.7/site-packages/sklearn/multiclass.py:76: UserWarning: Label not 77 is present in all training examples.\n",
      "  str(classes[c]))\n",
      "/Users/vlevitas-local/anaconda2/lib/python2.7/site-packages/sklearn/multiclass.py:76: UserWarning: Label not 85 is present in all training examples.\n",
      "  str(classes[c]))\n",
      "/Users/vlevitas-local/anaconda2/lib/python2.7/site-packages/sklearn/multiclass.py:76: UserWarning: Label not 99 is present in all training examples.\n",
      "  str(classes[c]))\n",
      "/Users/vlevitas-local/anaconda2/lib/python2.7/site-packages/sklearn/multiclass.py:76: UserWarning: Label not 105 is present in all training examples.\n",
      "  str(classes[c]))\n",
      "/Users/vlevitas-local/anaconda2/lib/python2.7/site-packages/sklearn/multiclass.py:76: UserWarning: Label not 119 is present in all training examples.\n",
      "  str(classes[c]))\n",
      "/Users/vlevitas-local/anaconda2/lib/python2.7/site-packages/sklearn/multiclass.py:76: UserWarning: Label not 182 is present in all training examples.\n",
      "  str(classes[c]))\n",
      "/Users/vlevitas-local/anaconda2/lib/python2.7/site-packages/sklearn/multiclass.py:76: UserWarning: Label not 253 is present in all training examples.\n",
      "  str(classes[c]))\n",
      "/Users/vlevitas-local/anaconda2/lib/python2.7/site-packages/sklearn/multiclass.py:76: UserWarning: Label not 38 is present in all training examples.\n",
      "  str(classes[c]))\n",
      "/Users/vlevitas-local/anaconda2/lib/python2.7/site-packages/sklearn/multiclass.py:76: UserWarning: Label not 43 is present in all training examples.\n",
      "  str(classes[c]))\n",
      "/Users/vlevitas-local/anaconda2/lib/python2.7/site-packages/sklearn/multiclass.py:76: UserWarning: Label not 51 is present in all training examples.\n",
      "  str(classes[c]))\n",
      "/Users/vlevitas-local/anaconda2/lib/python2.7/site-packages/sklearn/multiclass.py:76: UserWarning: Label not 90 is present in all training examples.\n",
      "  str(classes[c]))\n",
      "/Users/vlevitas-local/anaconda2/lib/python2.7/site-packages/sklearn/multiclass.py:76: UserWarning: Label not 91 is present in all training examples.\n",
      "  str(classes[c]))\n",
      "/Users/vlevitas-local/anaconda2/lib/python2.7/site-packages/sklearn/multiclass.py:76: UserWarning: Label not 96 is present in all training examples.\n",
      "  str(classes[c]))\n"
     ]
    }
   ],
   "source": [
    "# for topic, df in df_hash.iteritems():\n",
    "print \"evaluating\"\n",
    "t0 = time()\n",
    "y_prediction =  cross_val_predict(pipeline, df.content, Y, cv=10 )\n",
    "print(\"done in %0.3fs\" % (time() - t0))\n",
    "print \"y_prediction: \\n\"\n",
    "print y_prediction.shape\n",
    "print y_prediction\n",
    "print type(y_prediction)\n",
    "print type(y_prediction[0])\n",
    "print y_prediction.astype(int)\n",
    "#     print y_predicted_vect.to_dense\n",
    "\n",
    "Y_inv = mlb.inverse_transform(y_prediction)\n",
    "#     y_test_inv = mlb.inverse_transform(y_test_vect.values)\n",
    "#     y_pred_inv = mlb.inverse_transform(y_predicted_vect)\n",
    "#     y_pred_inv = y_predicted_vect.apply(lambda x: d[x].inverse_transform(x))\n",
    "#     y_test_inv = y_test_vect.apply(lambda x: d[x].inverse_transform(x))\n",
    "\n",
    "#     print clf.best_estimator_\n",
    "print \"baallss\"\n",
    "#     print Y_inv\n",
    "print accuracy_score(Y, y_prediction) \n",
    "report = classification_report(Y, y_prediction) \n",
    "print(report)\n",
    "\n",
    "#     print cv.best_score_\n",
    "#     print cv.best_params_\n",
    "#     print clf.feature_importances_  \n",
    "#     model = SelectFromModel(clf, prefit=True)\n",
    "#     print model\n",
    "\n",
    "\n",
    "\n"
   ]
  },
  {
   "cell_type": "code",
   "execution_count": null,
   "metadata": {
    "collapsed": false,
    "scrolled": false
   },
   "outputs": [],
   "source": [
    "# y = mlb.inverse_transform(Y)\n",
    "index = 0\n",
    "for actual, pred in zip(df.tags, Y_inv):\n",
    "        print('index: {0} :: {1} => {2}'.format(index, actual, ', '.join(pred)))\n",
    "        index = index +1\n",
    "\n",
    "        "
   ]
  },
  {
   "cell_type": "code",
   "execution_count": null,
   "metadata": {
    "collapsed": false
   },
   "outputs": [],
   "source": [
    "print y_prediction.shape\n",
    "# print y_test[0]"
   ]
  },
  {
   "cell_type": "code",
   "execution_count": null,
   "metadata": {
    "collapsed": false
   },
   "outputs": [],
   "source": [
    "# print confusion_matrix(Y, y_prediction) \n",
    "# print y_pred_inv\n",
    "# print mlb.inverse_transform(0)\n"
   ]
  },
  {
   "cell_type": "markdown",
   "metadata": {},
   "source": [
    "https://www.civisanalytics.com/blog/workflows-in-python-using-pipeline-and-gridsearchcv-for-more-compact-and-comprehensive-code/"
   ]
  },
  {
   "cell_type": "code",
   "execution_count": null,
   "metadata": {
    "collapsed": false
   },
   "outputs": [],
   "source": [
    "# Numpy arrays are easy to work with, so convert the result to an \n",
    "# array\n",
    "# train_data_features = train_data_features.toarray()\n",
    "# report = classification_report(Y, y_prediction) \n",
    "# print report\n",
    "f1_score(Y, y_prediction, average='weighted')"
   ]
  },
  {
   "cell_type": "code",
   "execution_count": null,
   "metadata": {
    "collapsed": false
   },
   "outputs": [],
   "source": [
    "# print train_data_features.shape\n",
    "# print \"4\"\n"
   ]
  },
  {
   "cell_type": "code",
   "execution_count": null,
   "metadata": {
    "collapsed": true
   },
   "outputs": [],
   "source": []
  }
 ],
 "metadata": {
  "anaconda-cloud": {},
  "kernelspec": {
   "display_name": "Python [Root]",
   "language": "python",
   "name": "Python [Root]"
  },
  "language_info": {
   "codemirror_mode": {
    "name": "ipython",
    "version": 2
   },
   "file_extension": ".py",
   "mimetype": "text/x-python",
   "name": "python",
   "nbconvert_exporter": "python",
   "pygments_lexer": "ipython2",
   "version": "2.7.12"
  }
 },
 "nbformat": 4,
 "nbformat_minor": 0
}
