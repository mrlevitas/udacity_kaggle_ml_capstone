{
 "cells": [
  {
   "cell_type": "code",
   "execution_count": null,
   "metadata": {
    "collapsed": true
   },
   "outputs": [],
   "source": [
    "def f1_score(tp, fp, fn):\n",
    "    p = (tp*1.) / (tp+fp)\n",
    "    r = (tp*1.) / (tp+fn)\n",
    "    f1 = (2*p*r)/(p+r)\n",
    "    return f1\n"
   ]
  },
  {
   "cell_type": "code",
   "execution_count": null,
   "metadata": {
    "collapsed": true
   },
   "outputs": [],
   "source": [
    "interpolation vs extrapolation, different domains\n"
   ]
  },
  {
   "cell_type": "code",
   "execution_count": null,
   "metadata": {
    "collapsed": true
   },
   "outputs": [],
   "source": [
    "\n",
    "seed = 7\n",
    "kfold = KFold(n_splits=10, random_state=seed)\n",
    "results = cross_val_score(model, X, Y, cv=kfold)\n",
    "\n",
    "\n",
    "cross_validation.cross_val_score(clf, X, y,\n",
    "cv=5) #cv is the nu\n"
   ]
  },
  {
   "cell_type": "code",
   "execution_count": null,
   "metadata": {
    "collapsed": true
   },
   "outputs": [],
   "source": [
    "library(wordcloud)\n",
    "original_books <- data_frame(line = 1:length(dat_all$content), text = dat_all$tags, category = dat_all$category)\n",
    "\n",
    "stack_words <- original_books %>%\n",
    "  ungroup() %>%\n",
    "  unnest_tokens(word, text)\n",
    "\n",
    "dark2 <- brewer.pal(6, \"Dark2\")  # Used for the color in wordcloud\n",
    "stack_words %>%\n",
    "  filter(category==\"cooking\")  %>%\n",
    "  count(word) %>%\n",
    "  with(wordcloud(word, n, max.words = 100,colors = dark2,rot.per = 0.2))"
   ]
  },
  {
   "cell_type": "code",
   "execution_count": null,
   "metadata": {
    "collapsed": true
   },
   "outputs": [],
   "source": [
    "from sklearn.feature_extraction.text import TfidfVectorizer\n",
    "import numpy as np\n",
    "\n",
    "lectures = [\"this is some food\", \"this is some drink\"]\n",
    "vectorizer = TfidfVectorizer()\n",
    "X = vectorizer.fit_transform(lectures)\n",
    "indices = np.argsort(vectorizer.idf_)[::-1]\n",
    "features = vectorizer.get_feature_names()\n",
    "top_n = 2\n",
    "top_features = [features[i] for i in indices[:top_n]]\n",
    "print top_features\n",
    "\n",
    "\n",
    "terms = tfidf_vectorizer.get_feature_names()"
   ]
  }
 ],
 "metadata": {
  "anaconda-cloud": {},
  "kernelspec": {
   "display_name": "Python [Root]",
   "language": "python",
   "name": "Python [Root]"
  },
  "language_info": {
   "codemirror_mode": {
    "name": "ipython",
    "version": 2
   },
   "file_extension": ".py",
   "mimetype": "text/x-python",
   "name": "python",
   "nbconvert_exporter": "python",
   "pygments_lexer": "ipython2",
   "version": "2.7.12"
  }
 },
 "nbformat": 4,
 "nbformat_minor": 0
}
